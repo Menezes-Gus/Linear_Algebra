{
 "cells": [
  {
   "cell_type": "code",
   "execution_count": 1,
   "id": "903472f2",
   "metadata": {},
   "outputs": [],
   "source": [
    "from sympy import *"
   ]
  },
  {
   "cell_type": "markdown",
   "id": "97e5b272",
   "metadata": {},
   "source": [
    "# Vetores (Vectors)"
   ]
  },
  {
   "cell_type": "code",
   "execution_count": 2,
   "id": "3bc1e62e",
   "metadata": {},
   "outputs": [
    {
     "data": {
      "text/latex": [
       "$\\displaystyle \\left[\\begin{matrix}1\\\\2\\\\3\\end{matrix}\\right]$"
      ],
      "text/plain": [
       "Matrix([\n",
       "[1],\n",
       "[2],\n",
       "[3]])"
      ]
     },
     "execution_count": 2,
     "metadata": {},
     "output_type": "execute_result"
    }
   ],
   "source": [
    "vector = Matrix([1,2,3])\n",
    "vector"
   ]
  },
  {
   "cell_type": "code",
   "execution_count": 3,
   "id": "d80baca0",
   "metadata": {},
   "outputs": [],
   "source": [
    "x = symbols('x')\n",
    "y = symbols('y')\n",
    "z = symbols('z')\n",
    "w = symbols('w')"
   ]
  },
  {
   "cell_type": "markdown",
   "id": "c9b1287c",
   "metadata": {},
   "source": [
    "## Igualdade de Vetores (Vector Equality)"
   ]
  },
  {
   "cell_type": "code",
   "execution_count": 4,
   "id": "e011bf14",
   "metadata": {},
   "outputs": [
    {
     "data": {
      "text/plain": [
       "{x: -3, y: 3}"
      ]
     },
     "execution_count": 4,
     "metadata": {},
     "output_type": "execute_result"
    }
   ],
   "source": [
    "vector1 = Matrix([1-x, 2])\n",
    "vector2 = Matrix([4, y-1])\n",
    "solve(vector1-vector2)"
   ]
  },
  {
   "cell_type": "markdown",
   "id": "f1948464",
   "metadata": {},
   "source": [
    "## Subtração de Vetores (Vector Subtraction)"
   ]
  },
  {
   "cell_type": "code",
   "execution_count": 5,
   "id": "c66ea3e2",
   "metadata": {},
   "outputs": [],
   "source": [
    "vector1 = Matrix([-1, 2])\n",
    "vector2 = Matrix([2, 1])"
   ]
  },
  {
   "cell_type": "code",
   "execution_count": 6,
   "id": "e1f5a439",
   "metadata": {},
   "outputs": [
    {
     "data": {
      "text/latex": [
       "$\\displaystyle \\left[\\begin{matrix}3\\\\-1\\end{matrix}\\right]$"
      ],
      "text/plain": [
       "Matrix([\n",
       "[ 3],\n",
       "[-1]])"
      ]
     },
     "execution_count": 6,
     "metadata": {},
     "output_type": "execute_result"
    }
   ],
   "source": [
    "vector2 - vector1"
   ]
  },
  {
   "cell_type": "code",
   "execution_count": 7,
   "id": "372f08ba",
   "metadata": {},
   "outputs": [
    {
     "data": {
      "text/latex": [
       "$\\displaystyle \\left[\\begin{matrix}-3\\\\1\\end{matrix}\\right]$"
      ],
      "text/plain": [
       "Matrix([\n",
       "[-3],\n",
       "[ 1]])"
      ]
     },
     "execution_count": 7,
     "metadata": {},
     "output_type": "execute_result"
    }
   ],
   "source": [
    "vector1 - vector2"
   ]
  },
  {
   "cell_type": "markdown",
   "id": "3e5f6d3f",
   "metadata": {},
   "source": [
    "Note que as subtrações resultaram em vetores opostos. <br>\n",
    "Note that the subtractions resulted in oposite vectors."
   ]
  },
  {
   "cell_type": "markdown",
   "id": "b598c5cc",
   "metadata": {},
   "source": [
    "## Soma de Vetores (Sum of Vectors)"
   ]
  },
  {
   "cell_type": "code",
   "execution_count": 8,
   "id": "8c0d7b26",
   "metadata": {},
   "outputs": [],
   "source": [
    "vector1 = Matrix([10, 5])\n",
    "vector2 = Matrix([-2, 4])"
   ]
  },
  {
   "cell_type": "code",
   "execution_count": 9,
   "id": "41d43501",
   "metadata": {},
   "outputs": [
    {
     "data": {
      "text/latex": [
       "$\\displaystyle \\left[\\begin{matrix}8\\\\9\\end{matrix}\\right]$"
      ],
      "text/plain": [
       "Matrix([\n",
       "[8],\n",
       "[9]])"
      ]
     },
     "execution_count": 9,
     "metadata": {},
     "output_type": "execute_result"
    }
   ],
   "source": [
    "vector1+vector2"
   ]
  },
  {
   "cell_type": "code",
   "execution_count": 10,
   "id": "bb78161f",
   "metadata": {},
   "outputs": [
    {
     "data": {
      "text/latex": [
       "$\\displaystyle \\left[\\begin{matrix}8\\\\9\\end{matrix}\\right]$"
      ],
      "text/plain": [
       "Matrix([\n",
       "[8],\n",
       "[9]])"
      ]
     },
     "execution_count": 10,
     "metadata": {},
     "output_type": "execute_result"
    }
   ],
   "source": [
    "vector2+vector1"
   ]
  },
  {
   "cell_type": "markdown",
   "id": "507021ba",
   "metadata": {},
   "source": [
    "## Multiplicação de Vetores - Produto Escalar (Vector Multiplication -  Scalar Product or Dot Product)"
   ]
  },
  {
   "cell_type": "markdown",
   "id": "a94faaea",
   "metadata": {},
   "source": [
    "(x1,y1,z1,w1) . (x2,y2,z2,w2) = (x1x2+y1y2+w1w2+z1z2) = Scalar (single number)"
   ]
  },
  {
   "cell_type": "code",
   "execution_count": 11,
   "id": "8cc55b39",
   "metadata": {},
   "outputs": [],
   "source": [
    "vector1 = Matrix([1, 2])\n",
    "vector2 = Matrix([5, 3])"
   ]
  },
  {
   "cell_type": "code",
   "execution_count": 12,
   "id": "85b87686",
   "metadata": {},
   "outputs": [
    {
     "data": {
      "text/latex": [
       "$\\displaystyle 11$"
      ],
      "text/plain": [
       "11"
      ]
     },
     "execution_count": 12,
     "metadata": {},
     "output_type": "execute_result"
    }
   ],
   "source": [
    "vector1.dot(vector2)"
   ]
  },
  {
   "cell_type": "code",
   "execution_count": 13,
   "id": "a39cd6a1",
   "metadata": {},
   "outputs": [
    {
     "data": {
      "text/latex": [
       "$\\displaystyle 11$"
      ],
      "text/plain": [
       "11"
      ]
     },
     "execution_count": 13,
     "metadata": {},
     "output_type": "execute_result"
    }
   ],
   "source": [
    "vector2.dot(vector1)"
   ]
  },
  {
   "cell_type": "code",
   "execution_count": 14,
   "id": "c48eb201",
   "metadata": {},
   "outputs": [],
   "source": [
    "x1 = symbols('x1')\n",
    "y1 = symbols('y1')\n",
    "x2 = symbols('x2')\n",
    "y2 = symbols('y2')\n",
    "vector1 = Matrix([x1,y1])\n",
    "vector2 = Matrix([x2, y2])"
   ]
  },
  {
   "cell_type": "code",
   "execution_count": 15,
   "id": "8935a02f",
   "metadata": {},
   "outputs": [
    {
     "data": {
      "text/latex": [
       "$\\displaystyle x_{1} x_{2} + y_{1} y_{2}$"
      ],
      "text/plain": [
       "x1*x2 + y1*y2"
      ]
     },
     "execution_count": 15,
     "metadata": {},
     "output_type": "execute_result"
    }
   ],
   "source": [
    "vector2.dot(vector1)"
   ]
  },
  {
   "cell_type": "markdown",
   "id": "9d20c8e4",
   "metadata": {},
   "source": [
    "## Multiplicação por Escalar (Scalar Multiplication)"
   ]
  },
  {
   "cell_type": "code",
   "execution_count": 16,
   "id": "6238e05c",
   "metadata": {},
   "outputs": [],
   "source": [
    "vector1 = Matrix([x, y])\n",
    "alpha = symbols('alpha')"
   ]
  },
  {
   "cell_type": "code",
   "execution_count": 17,
   "id": "e36ca12e",
   "metadata": {},
   "outputs": [],
   "source": [
    "scalar_vector1 = alpha*vector1"
   ]
  },
  {
   "cell_type": "code",
   "execution_count": 18,
   "id": "424a5e6c",
   "metadata": {},
   "outputs": [
    {
     "data": {
      "text/latex": [
       "$\\displaystyle \\left[\\begin{matrix}\\alpha x\\\\\\alpha y\\end{matrix}\\right]$"
      ],
      "text/plain": [
       "Matrix([\n",
       "[alpha*x],\n",
       "[alpha*y]])"
      ]
     },
     "execution_count": 18,
     "metadata": {},
     "output_type": "execute_result"
    }
   ],
   "source": [
    "scalar_vector1"
   ]
  },
  {
   "cell_type": "code",
   "execution_count": 19,
   "id": "4ff4d137",
   "metadata": {},
   "outputs": [
    {
     "data": {
      "text/latex": [
       "$\\displaystyle \\left[\\begin{matrix}15\\\\-9\\end{matrix}\\right]$"
      ],
      "text/plain": [
       "Matrix([\n",
       "[15],\n",
       "[-9]])"
      ]
     },
     "execution_count": 19,
     "metadata": {},
     "output_type": "execute_result"
    }
   ],
   "source": [
    "vector2 = Matrix([5,-3])\n",
    "3*vector2"
   ]
  },
  {
   "cell_type": "markdown",
   "id": "ea601433",
   "metadata": {},
   "source": [
    "## Módulo de um Vetor (Magnitude or Modulus of a Vector)"
   ]
  },
  {
   "cell_type": "code",
   "execution_count": 20,
   "id": "a203b75a",
   "metadata": {},
   "outputs": [],
   "source": [
    "vector1 = Matrix([5,6])"
   ]
  },
  {
   "cell_type": "code",
   "execution_count": 21,
   "id": "bff1f0cb",
   "metadata": {},
   "outputs": [
    {
     "data": {
      "text/latex": [
       "$\\displaystyle \\sqrt{61}$"
      ],
      "text/plain": [
       "sqrt(61)"
      ]
     },
     "execution_count": 21,
     "metadata": {},
     "output_type": "execute_result"
    }
   ],
   "source": [
    "vector1.norm()"
   ]
  },
  {
   "cell_type": "code",
   "execution_count": 22,
   "id": "60bdfa09",
   "metadata": {},
   "outputs": [
    {
     "data": {
      "text/latex": [
       "$\\displaystyle 7.81024967590665$"
      ],
      "text/plain": [
       "7.81024967590665"
      ]
     },
     "execution_count": 22,
     "metadata": {},
     "output_type": "execute_result"
    }
   ],
   "source": [
    "N(vector1.norm())"
   ]
  },
  {
   "cell_type": "code",
   "execution_count": 23,
   "id": "52713b04",
   "metadata": {},
   "outputs": [],
   "source": [
    "vector2 = Matrix([2,-3])"
   ]
  },
  {
   "cell_type": "code",
   "execution_count": 24,
   "id": "53eb5f0b",
   "metadata": {},
   "outputs": [
    {
     "data": {
      "text/latex": [
       "$\\displaystyle \\sqrt{13}$"
      ],
      "text/plain": [
       "sqrt(13)"
      ]
     },
     "execution_count": 24,
     "metadata": {},
     "output_type": "execute_result"
    }
   ],
   "source": [
    "vector2.norm()"
   ]
  },
  {
   "cell_type": "code",
   "execution_count": 25,
   "id": "a2ed0c72",
   "metadata": {},
   "outputs": [
    {
     "data": {
      "text/latex": [
       "$\\displaystyle 3.60555127546399$"
      ],
      "text/plain": [
       "3.60555127546399"
      ]
     },
     "execution_count": 25,
     "metadata": {},
     "output_type": "execute_result"
    }
   ],
   "source": [
    "N(vector2.norm())"
   ]
  },
  {
   "cell_type": "code",
   "execution_count": 26,
   "id": "90579a3b",
   "metadata": {},
   "outputs": [],
   "source": [
    "vector3 = Matrix([1,4,5])"
   ]
  },
  {
   "cell_type": "code",
   "execution_count": 27,
   "id": "fc75ef38",
   "metadata": {},
   "outputs": [
    {
     "data": {
      "text/latex": [
       "$\\displaystyle \\sqrt{42}$"
      ],
      "text/plain": [
       "sqrt(42)"
      ]
     },
     "execution_count": 27,
     "metadata": {},
     "output_type": "execute_result"
    }
   ],
   "source": [
    "vector3.norm()"
   ]
  },
  {
   "cell_type": "code",
   "execution_count": 28,
   "id": "99989a6a",
   "metadata": {},
   "outputs": [
    {
     "data": {
      "text/latex": [
       "$\\displaystyle 6.48074069840786$"
      ],
      "text/plain": [
       "6.48074069840786"
      ]
     },
     "execution_count": 28,
     "metadata": {},
     "output_type": "execute_result"
    }
   ],
   "source": [
    "N(vector3.norm())"
   ]
  },
  {
   "cell_type": "code",
   "execution_count": 29,
   "id": "b3fe826f",
   "metadata": {},
   "outputs": [
    {
     "data": {
      "text/latex": [
       "$\\displaystyle \\sqrt{\\left|{w}\\right|^{2} + \\left|{x}\\right|^{2} + \\left|{y}\\right|^{2} + \\left|{z}\\right|^{2}}$"
      ],
      "text/plain": [
       "sqrt(Abs(w)**2 + Abs(x)**2 + Abs(y)**2 + Abs(z)**2)"
      ]
     },
     "execution_count": 29,
     "metadata": {},
     "output_type": "execute_result"
    }
   ],
   "source": [
    "vector4 = Matrix([x,y,z,w])\n",
    "vector4.norm()"
   ]
  },
  {
   "cell_type": "markdown",
   "id": "4f733175",
   "metadata": {},
   "source": [
    "## Ângulo (Teta $\\theta$) entre 2 Vetores (Angle (Theta $\\theta$) between 2 vectors)\n"
   ]
  },
  {
   "cell_type": "markdown",
   "id": "1a37e304",
   "metadata": {},
   "source": [
    "\n",
    "Formula: $\\frac{u * v}{|u| * |v|}$ = cos $\\theta$"
   ]
  },
  {
   "cell_type": "code",
   "execution_count": 30,
   "id": "02f150de",
   "metadata": {},
   "outputs": [],
   "source": [
    "vector1 = Matrix([2,2])\n",
    "vector2 = Matrix([0, -2])"
   ]
  },
  {
   "cell_type": "code",
   "execution_count": 31,
   "id": "aea6803e",
   "metadata": {},
   "outputs": [],
   "source": [
    "line1 = Line(Point(0,0), Point(vector1[0], vector1[1]))\n",
    "line2 = Line(Point(0,0), Point(vector2[0], vector2[1]))"
   ]
  },
  {
   "cell_type": "code",
   "execution_count": 32,
   "id": "e64b8977",
   "metadata": {},
   "outputs": [
    {
     "data": {
      "text/latex": [
       "$\\displaystyle \\frac{3 \\pi}{4}$"
      ],
      "text/plain": [
       "3*pi/4"
      ]
     },
     "execution_count": 32,
     "metadata": {},
     "output_type": "execute_result"
    }
   ],
   "source": [
    "line1.angle_between(line2)"
   ]
  },
  {
   "cell_type": "code",
   "execution_count": 33,
   "id": "b744c4b8",
   "metadata": {},
   "outputs": [
    {
     "data": {
      "text/plain": [
       "135.0"
      ]
     },
     "execution_count": 33,
     "metadata": {},
     "output_type": "execute_result"
    }
   ],
   "source": [
    "from math import degrees\n",
    "degrees(line1.angle_between(line2))"
   ]
  },
  {
   "cell_type": "code",
   "execution_count": 34,
   "id": "cee754a4",
   "metadata": {},
   "outputs": [],
   "source": [
    "vector1 = Matrix([1,2,3])\n",
    "vector2 = Matrix([-5, 1, 1])\n",
    "line1 = Line(Point3D(0,0,0), Point3D(vector1[0], vector1[1], vector1[2]))\n",
    "line2 = Line(Point3D(0,0,0), Point3D(vector2[0], vector2[1], vector2[2]))"
   ]
  },
  {
   "cell_type": "code",
   "execution_count": 35,
   "id": "39569e2e",
   "metadata": {},
   "outputs": [
    {
     "data": {
      "text/latex": [
       "$\\displaystyle \\frac{\\pi}{2}$"
      ],
      "text/plain": [
       "pi/2"
      ]
     },
     "execution_count": 35,
     "metadata": {},
     "output_type": "execute_result"
    }
   ],
   "source": [
    "line1.angle_between(line2)"
   ]
  },
  {
   "cell_type": "code",
   "execution_count": 36,
   "id": "7d2139df",
   "metadata": {},
   "outputs": [
    {
     "data": {
      "text/plain": [
       "90.0"
      ]
     },
     "execution_count": 36,
     "metadata": {},
     "output_type": "execute_result"
    }
   ],
   "source": [
    "degrees(line1.angle_between(line2))"
   ]
  },
  {
   "cell_type": "markdown",
   "id": "64f115fa",
   "metadata": {},
   "source": [
    "## Vetores Colineares ou Paralelos (Collinear or Parallel Vectors)"
   ]
  },
  {
   "cell_type": "markdown",
   "id": "66975b33",
   "metadata": {},
   "source": [
    "u = (x1, y1) <br>\n",
    "v = (x2, y2) <br>\n",
    "\n",
    "Se $\\frac{x1}{x2}$ = $\\frac{y1}{y2}$ então u e v são vetores colineares<br>\n",
    "If $\\frac{x1}{x2}$ = $\\frac{y1}{y2}$ then u and v are collinear vectors"
   ]
  },
  {
   "cell_type": "code",
   "execution_count": 37,
   "id": "3f9cc1e3",
   "metadata": {},
   "outputs": [
    {
     "data": {
      "text/plain": [
       "True"
      ]
     },
     "execution_count": 37,
     "metadata": {},
     "output_type": "execute_result"
    }
   ],
   "source": [
    "vector1 = Matrix([-3, 2])\n",
    "vector2 = Matrix([6,-4])\n",
    "\n",
    "scalar1 = vector1[0]/vector1[1]\n",
    "scalar2 = vector2[0]/vector2[1]\n",
    "\n",
    "scalar1==scalar2"
   ]
  },
  {
   "cell_type": "code",
   "execution_count": 38,
   "id": "924f5087",
   "metadata": {},
   "outputs": [
    {
     "data": {
      "text/plain": [
       "True"
      ]
     },
     "execution_count": 38,
     "metadata": {},
     "output_type": "execute_result"
    }
   ],
   "source": [
    "Point.is_collinear(Point(0,0), Point(vector1[0], vector1[1]), Point(vector2[0], vector2[1]))"
   ]
  },
  {
   "cell_type": "code",
   "execution_count": 39,
   "id": "5f0bd637",
   "metadata": {},
   "outputs": [
    {
     "data": {
      "text/plain": [
       "False"
      ]
     },
     "execution_count": 39,
     "metadata": {},
     "output_type": "execute_result"
    }
   ],
   "source": [
    "vector1 = Matrix([1, 2])\n",
    "vector2 = Matrix([2, 3])\n",
    "\n",
    "scalar1 = vector1[0]/vector1[1]\n",
    "scalar2 = vector2[0]/vector2[1]\n",
    "\n",
    "scalar1==scalar2"
   ]
  },
  {
   "cell_type": "code",
   "execution_count": 40,
   "id": "3601b18a",
   "metadata": {},
   "outputs": [
    {
     "data": {
      "text/plain": [
       "False"
      ]
     },
     "execution_count": 40,
     "metadata": {},
     "output_type": "execute_result"
    }
   ],
   "source": [
    "Point.is_collinear(Point(0,0), Point(vector1[0], vector1[1]), Point(vector2[0], vector2[1]))"
   ]
  },
  {
   "cell_type": "markdown",
   "id": "bc16d35f",
   "metadata": {},
   "source": [
    "## Vetores Ortogonais (Orthogonal Vectors)"
   ]
  },
  {
   "cell_type": "markdown",
   "id": "59f37c86",
   "metadata": {},
   "source": [
    "Se o produto escalar de 2 vetores for 0, assumimos que existe ortogonalidade entre os 2. <br>\n",
    "If the scalar product between 2 vectors is 0, we assume that there is orthogonality between the 2."
   ]
  },
  {
   "cell_type": "code",
   "execution_count": 41,
   "id": "116c59a6",
   "metadata": {},
   "outputs": [
    {
     "data": {
      "text/latex": [
       "$\\displaystyle 0$"
      ],
      "text/plain": [
       "0"
      ]
     },
     "execution_count": 41,
     "metadata": {},
     "output_type": "execute_result"
    }
   ],
   "source": [
    "vector1 = Matrix([1, 2])\n",
    "vector2 = Matrix([-2, 1])\n",
    "\n",
    "vector1.dot(vector2)"
   ]
  },
  {
   "cell_type": "code",
   "execution_count": 42,
   "id": "0c1831f9",
   "metadata": {},
   "outputs": [
    {
     "data": {
      "text/latex": [
       "$\\displaystyle 4 y - 14$"
      ],
      "text/plain": [
       "4*y - 14"
      ]
     },
     "execution_count": 42,
     "metadata": {},
     "output_type": "execute_result"
    }
   ],
   "source": [
    "vector3 = Matrix([2, y, -3])\n",
    "vector4 = Matrix([y-1, 2, 4])\n",
    "\n",
    "vector3.dot(vector4)"
   ]
  },
  {
   "cell_type": "code",
   "execution_count": 43,
   "id": "110ccdb1",
   "metadata": {},
   "outputs": [
    {
     "data": {
      "text/plain": [
       "[7/2]"
      ]
     },
     "execution_count": 43,
     "metadata": {},
     "output_type": "execute_result"
    }
   ],
   "source": [
    "orth_scalar = vector3.dot(vector4)\n",
    "solve(orth_scalar)"
   ]
  },
  {
   "cell_type": "code",
   "execution_count": 44,
   "id": "86c3f9a6",
   "metadata": {},
   "outputs": [
    {
     "data": {
      "text/latex": [
       "$\\displaystyle 0$"
      ],
      "text/plain": [
       "0"
      ]
     },
     "execution_count": 44,
     "metadata": {},
     "output_type": "execute_result"
    }
   ],
   "source": [
    "orth_scalar.subs(y, 7/2)"
   ]
  },
  {
   "cell_type": "markdown",
   "id": "2d08d071",
   "metadata": {},
   "source": [
    "## Vetores Perpendiculáres (Perpendicular Vectors)"
   ]
  },
  {
   "cell_type": "markdown",
   "id": "2dbc0e4f",
   "metadata": {},
   "source": [
    "Seguem a mesma lógica dos vetores ortogonais, com a diferença que ortogonalidade é aplicada em 2 dimensões, enquanto perpendicularidade pode ser identificada em múltiplas dimensões <br>\n",
    "They follow the same logic of the orthogonal vectors, with the difference that orthogonality is applied in 2 dimensions, while perpendicularity can be identified in multiple dimensions."
   ]
  },
  {
   "cell_type": "code",
   "execution_count": 45,
   "id": "0ccdae7f",
   "metadata": {},
   "outputs": [],
   "source": [
    "vector1 = Matrix([0, 1, -1])\n",
    "vector2 = Matrix([2, y, 3*y-2])"
   ]
  },
  {
   "cell_type": "code",
   "execution_count": 46,
   "id": "61314440",
   "metadata": {},
   "outputs": [
    {
     "data": {
      "text/plain": [
       "[1]"
      ]
     },
     "execution_count": 46,
     "metadata": {},
     "output_type": "execute_result"
    }
   ],
   "source": [
    "perp_scalar = vector1.dot(vector2)\n",
    "solve(perp_scalar)"
   ]
  },
  {
   "cell_type": "code",
   "execution_count": 47,
   "id": "dc156c68",
   "metadata": {},
   "outputs": [
    {
     "data": {
      "text/plain": [
       "[2]"
      ]
     },
     "execution_count": 47,
     "metadata": {},
     "output_type": "execute_result"
    }
   ],
   "source": [
    "perp_scalar = vector1.dot(vector1+vector2)\n",
    "solve(perp_scalar)"
   ]
  },
  {
   "cell_type": "markdown",
   "id": "6fa4600d",
   "metadata": {},
   "source": [
    "A diferença é que dois segmentos de reta que formam um ângulo reto entre si serão sempre ortogonais mas, só serão perpendiculares se eles se tocarem em algum ponto. Desta forma teremos que todos os segmentos de reta perpendiculares serão sempre ortogonais mas, nem todos os ortogonais serão perpendiculares necessariamente!"
   ]
  },
  {
   "cell_type": "markdown",
   "id": "490bd84a",
   "metadata": {},
   "source": [
    "The difference is that two line segments that form a right angle to each other will always be orthogonal, but they will only be perpendicular if they touch at some point. In this way, we will have that all perpendicular line segments will always be orthogonal, but not all orthogonal ones will necessarily be perpendicular!"
   ]
  },
  {
   "cell_type": "markdown",
   "id": "3e464656",
   "metadata": {},
   "source": [
    "## Projeção Ortogonal (Orthogonal Projection)"
   ]
  },
  {
   "cell_type": "markdown",
   "id": "1d6fa2eb",
   "metadata": {},
   "source": [
    "proj(u)w = $\\frac{w * u}{u * u}$ * u\n",
    "\n",
    "Projeção do vetor w sobre o vetor u\n",
    "Projection of the vector w on vector u"
   ]
  },
  {
   "cell_type": "code",
   "execution_count": 49,
   "id": "1fbd82bb",
   "metadata": {},
   "outputs": [],
   "source": [
    "k = symbols('k')"
   ]
  },
  {
   "cell_type": "code",
   "execution_count": 50,
   "id": "f01be5fa",
   "metadata": {},
   "outputs": [
    {
     "data": {
      "text/latex": [
       "$\\displaystyle \\left[\\begin{matrix}0\\\\\\frac{12}{17}\\\\\\frac{20}{17}\\end{matrix}\\right]$"
      ],
      "text/plain": [
       "Matrix([\n",
       "[    0],\n",
       "[12/17],\n",
       "[20/17]])"
      ]
     },
     "execution_count": 50,
     "metadata": {},
     "output_type": "execute_result"
    }
   ],
   "source": [
    "vector1 = Matrix([0, 3, 5])\n",
    "vector2 = Matrix([0, 1, 1])\n",
    "proj12 = (vector2.dot(vector1)/vector1.dot(vector1))*vector1\n",
    "proj12"
   ]
  },
  {
   "cell_type": "markdown",
   "id": "9db179d3",
   "metadata": {},
   "source": [
    "Exercício: Considere os vetores u=(0, -1, 1) e w=(2, 0, k) de R3. Determine todos os valores de K de modo que a projeção ortogonal do vetor w sobre o vetor u seja igual ao vetor -5u"
   ]
  },
  {
   "cell_type": "markdown",
   "id": "85502016",
   "metadata": {},
   "source": [
    "Exercise: Consider the vectors u=(0, -1, 1) and w=(2, 0, k) in R3. Find all the values of K that satisfy the orthogonal projection of w over u where proj(u)w = -5u"
   ]
  },
  {
   "cell_type": "code",
   "execution_count": 56,
   "id": "b4a4555c",
   "metadata": {},
   "outputs": [
    {
     "data": {
      "text/latex": [
       "$\\displaystyle \\left[\\begin{matrix}0\\\\- \\frac{k}{2} - 5\\\\\\frac{k}{2} + 5\\end{matrix}\\right]$"
      ],
      "text/plain": [
       "Matrix([\n",
       "[       0],\n",
       "[-k/2 - 5],\n",
       "[ k/2 + 5]])"
      ]
     },
     "execution_count": 56,
     "metadata": {},
     "output_type": "execute_result"
    }
   ],
   "source": [
    "vector3 = Matrix([0, -1, 1])\n",
    "vector4 = Matrix([2, 0, k])\n",
    "\n",
    "proj34 = ((vector4.dot(vector3)/vector3.dot(vector3))*vector3) + 5*vector3\n",
    "proj34"
   ]
  },
  {
   "cell_type": "code",
   "execution_count": 57,
   "id": "816e9d8d",
   "metadata": {},
   "outputs": [
    {
     "data": {
      "text/plain": [
       "{k: -10}"
      ]
     },
     "execution_count": 57,
     "metadata": {},
     "output_type": "execute_result"
    }
   ],
   "source": [
    "solve(proj34)"
   ]
  },
  {
   "cell_type": "markdown",
   "id": "ac30c3b5",
   "metadata": {},
   "source": [
    "## Combinação Linear (Linear Combination)"
   ]
  },
  {
   "cell_type": "markdown",
   "id": "103bdc80",
   "metadata": {},
   "source": [
    "v = $\\alpha$ * v1 + $\\beta$ * v2 + $\\gamma$ * v3"
   ]
  },
  {
   "cell_type": "code",
   "execution_count": 62,
   "id": "97adf9cb",
   "metadata": {},
   "outputs": [],
   "source": [
    "alpha, beta, gamma, delta = symbols('alpha beta gamma delta')"
   ]
  },
  {
   "cell_type": "code",
   "execution_count": 67,
   "id": "996f517c",
   "metadata": {},
   "outputs": [],
   "source": [
    "v = Matrix([1,2,4])\n",
    "v1 = Matrix([1,2,1])\n",
    "v2 = Matrix([1,0,2])\n",
    "v3 = Matrix([1,1,0])"
   ]
  },
  {
   "cell_type": "code",
   "execution_count": 68,
   "id": "c6ca12b1",
   "metadata": {},
   "outputs": [
    {
     "data": {
      "text/plain": [
       "{alpha: 2, beta: 1, gamma: -2}"
      ]
     },
     "execution_count": 68,
     "metadata": {},
     "output_type": "execute_result"
    }
   ],
   "source": [
    "equation = alpha*v1 + beta*v2 + gamma*v3 - v\n",
    "solve(equation)"
   ]
  },
  {
   "cell_type": "markdown",
   "id": "60019483",
   "metadata": {},
   "source": [
    "### Sistema Linear (Linear System)\n",
    "\n",
    "Passo (Step) 1:<br>\n",
    "$\\alpha$ + $\\beta$ +  $\\gamma$ = 1 } L1\n",
    "<br>\n",
    "\n",
    "2$\\alpha$ + 0 +  $\\gamma$ = 2 } L2\n",
    "<br>\n",
    "\n",
    "$\\alpha$ + 2$\\beta$ + 0 = 4 } L3"
   ]
  },
  {
   "cell_type": "markdown",
   "id": "a633b7e6",
   "metadata": {},
   "source": [
    "<span style=\"color:red\">\n",
    "Possível (Possible) Passo (Step) 2:<br>\n",
    "$\\alpha$ + $\\beta$ +  $\\gamma$ = 1 } L1\n",
    "<br>\n",
    "\n",
    "2$\\alpha$ + 0 +  $\\gamma$ = 2 } L2\n",
    "<br>\n",
    "\n",
    "0 + $\\beta$ - $\\gamma$ = 3 } L3 - L1\n",
    "<br>\n",
    "Não excluiu nenhuma variável, reinicia\n",
    "<br>\n",
    "Did'nt excluded any variable, restart\n",
    "</span>"
   ]
  },
  {
   "cell_type": "markdown",
   "id": "a6e5387a",
   "metadata": {},
   "source": [
    "<span style=\"color:red\">\n",
    "Possível (Possible) Passo (Step) 2:<br>\n",
    "$\\alpha$ + $\\beta$ +  $\\gamma$ = 1 } L1\n",
    "<br>\n",
    "\n",
    "$\\alpha$ - $\\beta$ +  0 = 1 } L2 - L1\n",
    "<br>\n",
    "\n",
    "$\\alpha$ + 2$\\beta$ + 0 = 4 } L3\n",
    "<br>\n",
    "Não excluiu nenhuma variável, reinicia\n",
    "<br>\n",
    "Did'nt excluded any variable, restart\n",
    "</span>"
   ]
  },
  {
   "cell_type": "markdown",
   "id": "e151ce29",
   "metadata": {},
   "source": [
    "Passo (Step) 2:<br>\n",
    "-$\\alpha$ + $\\beta$ +  0 = -1 } L1 - L2 } L1^\n",
    "<br>\n",
    "\n",
    "2$\\alpha$ + 0 +  $\\gamma$ = 2 } L2\n",
    "<br>\n",
    "\n",
    "$\\alpha$ + 2$\\beta$ + 0 = 4 } L3"
   ]
  },
  {
   "cell_type": "markdown",
   "id": "13f4c77c",
   "metadata": {},
   "source": [
    "Passo (Step) 3:\n",
    "-$\\alpha$ + $\\beta$ +  0 = -1 } L1^\n",
    "<br>\n",
    "\n",
    "2$\\alpha$ + 0 +  $\\gamma$ = 2 } L2\n",
    "<br>\n",
    "\n",
    "0 + 3$\\beta$ + 0 = 3 } L3 + L1^ } L3^<br><br>"
   ]
  },
  {
   "cell_type": "markdown",
   "id": "ea4a533d",
   "metadata": {},
   "source": [
    "3$\\beta$ = 3 --> $\\beta$ = 1<br>\n",
    "-$\\alpha$ + 1 +  0 = -1 --> -$\\alpha$= -2 --> $\\alpha$ = 2<br>\n",
    "2$\\alpha$ + 0 +  $\\gamma$ = 2 --> 4 + 0 +  $\\gamma$ = 2 --> $\\gamma$ = -2"
   ]
  },
  {
   "cell_type": "markdown",
   "id": "10db82a3",
   "metadata": {},
   "source": [
    "Exercício: Seja v1 = (1, -3, 2) e v2 = (2, 4, -1), dois vetores em R3. Determine o valor de k para que o vetor u = (-1, k, -7) seja combinação linear de v1 e v2"
   ]
  },
  {
   "cell_type": "markdown",
   "id": "476ffc74",
   "metadata": {},
   "source": [
    "Exercise: Let v1 = (1, -3, 2) and v2 = (2, 4, -1), two vectors in R3. Determine the value of k so that the vector u = (-1, k, -7) is a linear combination of v1 and v2"
   ]
  },
  {
   "cell_type": "code",
   "execution_count": 69,
   "id": "bed5d8bc",
   "metadata": {},
   "outputs": [],
   "source": [
    "v1 = Matrix([1,-3,2])\n",
    "v2 = Matrix([2,4,-1])\n",
    "u = Matrix([-1,k,-7])"
   ]
  },
  {
   "cell_type": "code",
   "execution_count": 72,
   "id": "3c31fa01",
   "metadata": {},
   "outputs": [
    {
     "data": {
      "text/plain": [
       "{alpha: -3, beta: 1, k: 13}"
      ]
     },
     "execution_count": 72,
     "metadata": {},
     "output_type": "execute_result"
    }
   ],
   "source": [
    "solve(alpha*v1+beta*v2-u)"
   ]
  },
  {
   "cell_type": "markdown",
   "id": "5f58a322",
   "metadata": {},
   "source": [
    "1:<br>\n",
    "$\\alpha$ * 1 + $\\beta$ * 2 = -1 } L1\n",
    "<br>\n",
    "$\\alpha$ * -3 + $\\beta$ * 4 = k } L2\n",
    "<br>\n",
    "$\\alpha$ * 2 + $\\beta$ * -1 = -7 } L3"
   ]
  },
  {
   "cell_type": "markdown",
   "id": "60c3c1c2",
   "metadata": {},
   "source": [
    "2:<br>\n",
    "$\\alpha$ * 1 + $\\beta$ * 2 = -1 } L1\n",
    "<br>\n",
    "$\\alpha$ * -3 + $\\beta$ * 4 = k } L2\n",
    "<br>\n",
    "0 + $\\beta$ * -5 = -5 } L3 - 2*L1"
   ]
  },
  {
   "cell_type": "markdown",
   "id": "8294e8f2",
   "metadata": {},
   "source": [
    "<br><br><br>\n",
    "$\\beta$ * -5 = -5 --> $\\beta$ = 1<br>\n",
    "$\\alpha$ * 1 + $\\beta$ * 2 = -1 --> $\\alpha$ + 2 = -1 --> $\\alpha$ = -3<br>\n",
    "$\\alpha$ * -3 + $\\beta$ * 4 = k --> 9 + 4 = k --> k=13"
   ]
  },
  {
   "cell_type": "markdown",
   "id": "40fd411c",
   "metadata": {},
   "source": [
    "Exercício: Seja P2 o espaço vetorial dos polinômios de grau 2. Considere polinômios v1 = -$x^2$ -6x v2 = $x^2$ - 3x - 1 e v3 = -3$x^2$ + 2. Mostre que v1 pode ser escrito como uma combinação linear dos vetores {v2, v3}"
   ]
  },
  {
   "cell_type": "markdown",
   "id": "c5eee550",
   "metadata": {},
   "source": [
    "Exercise: Let P2 be the vectorial space of the degree 2 polynomials. Consider polynomials v1 = -$x^2$ -6x v2 = $x^2$ - 3x - 1 e v3 = -3$x^2$ + 2. Show that v1 can be written as a linear combination of the vectors {v2, v3}"
   ]
  },
  {
   "cell_type": "code",
   "execution_count": 74,
   "id": "388206b0",
   "metadata": {},
   "outputs": [
    {
     "data": {
      "text/plain": [
       "[{alpha: 2*beta, x: 0}, {alpha: 2, beta: 1, x: 0}]"
      ]
     },
     "execution_count": 74,
     "metadata": {},
     "output_type": "execute_result"
    }
   ],
   "source": [
    "v1 = Matrix([-x**2, -6*x, 0])\n",
    "v2 = Matrix([x**2, -3*x, -1])\n",
    "v3 = Matrix([-x**2, 0, 2])\n",
    "\n",
    "solve(alpha*v2+beta*v3-v1)"
   ]
  },
  {
   "cell_type": "markdown",
   "id": "a09107b2",
   "metadata": {},
   "source": [
    "1:<br>\n",
    "$x^2$$\\alpha$ - 3$x^2$$\\beta$ = -$x^2$ } L1\n",
    "<br>\n",
    "-3x$\\alpha$ + 0 = -6x } L2\n",
    "<br>\n",
    "-1$\\alpha$ + 2$\\beta$= 0 } L3"
   ]
  },
  {
   "cell_type": "markdown",
   "id": "49780122",
   "metadata": {},
   "source": [
    "2:<br>\n",
    "$\\alpha$ - 3$\\beta$ = -$x^2$ } L1/$x^2$\n",
    "<br>\n",
    "-3$\\alpha$ + 0 = -6 } L2/x\n",
    "<br>\n",
    "-1$\\alpha$ + 2$\\beta$= 0 } L3"
   ]
  },
  {
   "cell_type": "markdown",
   "id": "64f360d3",
   "metadata": {},
   "source": [
    "<br><br><br>\n",
    "-3$\\alpha$ + 0 = -6 --> $\\alpha$ = 2<br>\n",
    "-1$\\alpha$ + 2$\\beta$= 0 --> -2 + 2$\\beta$= 0 --> 2$\\beta$ = 2 --> $\\beta$ = 1<br>"
   ]
  },
  {
   "cell_type": "markdown",
   "id": "348f0433",
   "metadata": {},
   "source": [
    "## Dependência e Independência Linear (Linear Dependence and Independence)"
   ]
  },
  {
   "cell_type": "code",
   "execution_count": null,
   "id": "7aeb16c6",
   "metadata": {},
   "outputs": [],
   "source": []
  }
 ],
 "metadata": {
  "kernelspec": {
   "display_name": "Python 3 (ipykernel)",
   "language": "python",
   "name": "python3"
  },
  "language_info": {
   "codemirror_mode": {
    "name": "ipython",
    "version": 3
   },
   "file_extension": ".py",
   "mimetype": "text/x-python",
   "name": "python",
   "nbconvert_exporter": "python",
   "pygments_lexer": "ipython3",
   "version": "3.9.7"
  }
 },
 "nbformat": 4,
 "nbformat_minor": 5
}
