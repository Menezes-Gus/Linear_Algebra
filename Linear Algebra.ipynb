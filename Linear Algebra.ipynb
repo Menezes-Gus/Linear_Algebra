{
 "cells": [
  {
   "cell_type": "code",
   "execution_count": 1,
   "id": "903472f2",
   "metadata": {},
   "outputs": [],
   "source": [
    "from sympy import *"
   ]
  },
  {
   "cell_type": "markdown",
   "id": "97e5b272",
   "metadata": {},
   "source": [
    "# Vetores (Vectors)"
   ]
  },
  {
   "cell_type": "code",
   "execution_count": 2,
   "id": "3bc1e62e",
   "metadata": {},
   "outputs": [
    {
     "data": {
      "text/latex": [
       "$\\displaystyle \\left[\\begin{matrix}1\\\\2\\\\3\\end{matrix}\\right]$"
      ],
      "text/plain": [
       "Matrix([\n",
       "[1],\n",
       "[2],\n",
       "[3]])"
      ]
     },
     "execution_count": 2,
     "metadata": {},
     "output_type": "execute_result"
    }
   ],
   "source": [
    "vector = Matrix([1,2,3])\n",
    "vector"
   ]
  },
  {
   "cell_type": "code",
   "execution_count": 21,
   "id": "d80baca0",
   "metadata": {},
   "outputs": [],
   "source": [
    "x = symbols('x')\n",
    "y = symbols('y')\n",
    "z = symbols('z')\n",
    "w = symbols('w')"
   ]
  },
  {
   "cell_type": "markdown",
   "id": "c9b1287c",
   "metadata": {},
   "source": [
    "## Igualdade de Vetores (Vector Equality)"
   ]
  },
  {
   "cell_type": "code",
   "execution_count": 4,
   "id": "e011bf14",
   "metadata": {},
   "outputs": [
    {
     "data": {
      "text/plain": [
       "{x: -3, y: 3}"
      ]
     },
     "execution_count": 4,
     "metadata": {},
     "output_type": "execute_result"
    }
   ],
   "source": [
    "vector1 = Matrix([1-x, 2])\n",
    "vector2 = Matrix([4, y-1])\n",
    "solve(vector1-vector2)"
   ]
  },
  {
   "cell_type": "markdown",
   "id": "f1948464",
   "metadata": {},
   "source": [
    "## Subtração de Vetores (Vector Subtraction)"
   ]
  },
  {
   "cell_type": "code",
   "execution_count": 8,
   "id": "c66ea3e2",
   "metadata": {},
   "outputs": [],
   "source": [
    "vector1 = Matrix([-1, 2])\n",
    "vector2 = Matrix([2, 1])"
   ]
  },
  {
   "cell_type": "code",
   "execution_count": 10,
   "id": "e1f5a439",
   "metadata": {},
   "outputs": [
    {
     "data": {
      "text/latex": [
       "$\\displaystyle \\left[\\begin{matrix}3\\\\-1\\end{matrix}\\right]$"
      ],
      "text/plain": [
       "Matrix([\n",
       "[ 3],\n",
       "[-1]])"
      ]
     },
     "execution_count": 10,
     "metadata": {},
     "output_type": "execute_result"
    }
   ],
   "source": [
    "vector2 - vector1"
   ]
  },
  {
   "cell_type": "code",
   "execution_count": 11,
   "id": "372f08ba",
   "metadata": {},
   "outputs": [
    {
     "data": {
      "text/latex": [
       "$\\displaystyle \\left[\\begin{matrix}-3\\\\1\\end{matrix}\\right]$"
      ],
      "text/plain": [
       "Matrix([\n",
       "[-3],\n",
       "[ 1]])"
      ]
     },
     "execution_count": 11,
     "metadata": {},
     "output_type": "execute_result"
    }
   ],
   "source": [
    "vector1 - vector2"
   ]
  },
  {
   "cell_type": "markdown",
   "id": "3e5f6d3f",
   "metadata": {},
   "source": [
    "Note que as subtrações resultaram em vetores opostos. <br>\n",
    "Note that the subtractions resulted in oposite vectors."
   ]
  },
  {
   "cell_type": "markdown",
   "id": "b598c5cc",
   "metadata": {},
   "source": [
    "## Soma de Vetores (Sum of Vectors)"
   ]
  },
  {
   "cell_type": "code",
   "execution_count": 12,
   "id": "8c0d7b26",
   "metadata": {},
   "outputs": [],
   "source": [
    "vector1 = Matrix([10, 5])\n",
    "vector2 = Matrix([-2, 4])"
   ]
  },
  {
   "cell_type": "code",
   "execution_count": 13,
   "id": "41d43501",
   "metadata": {},
   "outputs": [
    {
     "data": {
      "text/latex": [
       "$\\displaystyle \\left[\\begin{matrix}8\\\\9\\end{matrix}\\right]$"
      ],
      "text/plain": [
       "Matrix([\n",
       "[8],\n",
       "[9]])"
      ]
     },
     "execution_count": 13,
     "metadata": {},
     "output_type": "execute_result"
    }
   ],
   "source": [
    "vector1+vector2"
   ]
  },
  {
   "cell_type": "code",
   "execution_count": 14,
   "id": "bb78161f",
   "metadata": {},
   "outputs": [
    {
     "data": {
      "text/latex": [
       "$\\displaystyle \\left[\\begin{matrix}8\\\\9\\end{matrix}\\right]$"
      ],
      "text/plain": [
       "Matrix([\n",
       "[8],\n",
       "[9]])"
      ]
     },
     "execution_count": 14,
     "metadata": {},
     "output_type": "execute_result"
    }
   ],
   "source": [
    "vector2+vector1"
   ]
  },
  {
   "cell_type": "markdown",
   "id": "507021ba",
   "metadata": {},
   "source": [
    "## Multiplicação de Vetores - Produto Escalar (Vector Multiplication -  Scalar Product or Dot Product)"
   ]
  },
  {
   "cell_type": "markdown",
   "id": "a94faaea",
   "metadata": {},
   "source": [
    "(x1,y1,z1,w1) . (x2,y2,z2,w2) = (x1x2+y1y2+w1w2+z1z2) = Scalar (single number)"
   ]
  },
  {
   "cell_type": "code",
   "execution_count": 42,
   "id": "8cc55b39",
   "metadata": {},
   "outputs": [],
   "source": [
    "vector1 = Matrix([1, 2])\n",
    "vector2 = Matrix([5, 3])"
   ]
  },
  {
   "cell_type": "code",
   "execution_count": 43,
   "id": "85b87686",
   "metadata": {},
   "outputs": [
    {
     "data": {
      "text/latex": [
       "$\\displaystyle 11$"
      ],
      "text/plain": [
       "11"
      ]
     },
     "execution_count": 43,
     "metadata": {},
     "output_type": "execute_result"
    }
   ],
   "source": [
    "vector1.dot(vector2)"
   ]
  },
  {
   "cell_type": "code",
   "execution_count": 44,
   "id": "a39cd6a1",
   "metadata": {},
   "outputs": [
    {
     "data": {
      "text/latex": [
       "$\\displaystyle 11$"
      ],
      "text/plain": [
       "11"
      ]
     },
     "execution_count": 44,
     "metadata": {},
     "output_type": "execute_result"
    }
   ],
   "source": [
    "vector2.dot(vector1)"
   ]
  },
  {
   "cell_type": "code",
   "execution_count": 45,
   "id": "c48eb201",
   "metadata": {},
   "outputs": [],
   "source": [
    "x1 = symbols('x1')\n",
    "y1 = symbols('y1')\n",
    "x2 = symbols('x2')\n",
    "y2 = symbols('y2')\n",
    "vector1 = Matrix([x1,y1])\n",
    "vector2 = Matrix([x2, y2])"
   ]
  },
  {
   "cell_type": "code",
   "execution_count": 46,
   "id": "8935a02f",
   "metadata": {},
   "outputs": [
    {
     "data": {
      "text/latex": [
       "$\\displaystyle x_{1} x_{2} + y_{1} y_{2}$"
      ],
      "text/plain": [
       "x1*x2 + y1*y2"
      ]
     },
     "execution_count": 46,
     "metadata": {},
     "output_type": "execute_result"
    }
   ],
   "source": [
    "vector2.dot(vector1)"
   ]
  },
  {
   "cell_type": "markdown",
   "id": "9d20c8e4",
   "metadata": {},
   "source": [
    "## Multiplicação por Escalar (Scalar Multiplication)"
   ]
  },
  {
   "cell_type": "code",
   "execution_count": 47,
   "id": "6238e05c",
   "metadata": {},
   "outputs": [],
   "source": [
    "vector1 = Matrix([x, y])\n",
    "alpha = symbols('alpha')"
   ]
  },
  {
   "cell_type": "code",
   "execution_count": 48,
   "id": "e36ca12e",
   "metadata": {},
   "outputs": [],
   "source": [
    "scalar_vector1 = alpha*vector1"
   ]
  },
  {
   "cell_type": "code",
   "execution_count": 49,
   "id": "424a5e6c",
   "metadata": {},
   "outputs": [
    {
     "data": {
      "text/latex": [
       "$\\displaystyle \\left[\\begin{matrix}\\alpha x\\\\\\alpha y\\end{matrix}\\right]$"
      ],
      "text/plain": [
       "Matrix([\n",
       "[alpha*x],\n",
       "[alpha*y]])"
      ]
     },
     "execution_count": 49,
     "metadata": {},
     "output_type": "execute_result"
    }
   ],
   "source": [
    "scalar_vector1"
   ]
  },
  {
   "cell_type": "code",
   "execution_count": 50,
   "id": "4ff4d137",
   "metadata": {},
   "outputs": [
    {
     "data": {
      "text/latex": [
       "$\\displaystyle \\left[\\begin{matrix}15\\\\-9\\end{matrix}\\right]$"
      ],
      "text/plain": [
       "Matrix([\n",
       "[15],\n",
       "[-9]])"
      ]
     },
     "execution_count": 50,
     "metadata": {},
     "output_type": "execute_result"
    }
   ],
   "source": [
    "vector2 = Matrix([5,-3])\n",
    "3*vector2"
   ]
  },
  {
   "cell_type": "markdown",
   "id": "ea601433",
   "metadata": {},
   "source": [
    "## Módulo de um Vetor (Magnitude or Modulus of a Vector)"
   ]
  },
  {
   "cell_type": "code",
   "execution_count": 51,
   "id": "a203b75a",
   "metadata": {},
   "outputs": [],
   "source": [
    "vector1 = Matrix([5,6])"
   ]
  },
  {
   "cell_type": "code",
   "execution_count": 52,
   "id": "bff1f0cb",
   "metadata": {},
   "outputs": [
    {
     "data": {
      "text/latex": [
       "$\\displaystyle \\sqrt{61}$"
      ],
      "text/plain": [
       "sqrt(61)"
      ]
     },
     "execution_count": 52,
     "metadata": {},
     "output_type": "execute_result"
    }
   ],
   "source": [
    "vector1.norm()"
   ]
  },
  {
   "cell_type": "code",
   "execution_count": 59,
   "id": "60bdfa09",
   "metadata": {},
   "outputs": [
    {
     "data": {
      "text/latex": [
       "$\\displaystyle 7.81024967590665$"
      ],
      "text/plain": [
       "7.81024967590665"
      ]
     },
     "execution_count": 59,
     "metadata": {},
     "output_type": "execute_result"
    }
   ],
   "source": [
    "N(vector1.norm())"
   ]
  },
  {
   "cell_type": "code",
   "execution_count": 53,
   "id": "52713b04",
   "metadata": {},
   "outputs": [],
   "source": [
    "vector2 = Matrix([2,-3])"
   ]
  },
  {
   "cell_type": "code",
   "execution_count": 54,
   "id": "53eb5f0b",
   "metadata": {},
   "outputs": [
    {
     "data": {
      "text/latex": [
       "$\\displaystyle \\sqrt{13}$"
      ],
      "text/plain": [
       "sqrt(13)"
      ]
     },
     "execution_count": 54,
     "metadata": {},
     "output_type": "execute_result"
    }
   ],
   "source": [
    "vector2.norm()"
   ]
  },
  {
   "cell_type": "code",
   "execution_count": 58,
   "id": "a2ed0c72",
   "metadata": {},
   "outputs": [
    {
     "data": {
      "text/latex": [
       "$\\displaystyle 3.60555127546399$"
      ],
      "text/plain": [
       "3.60555127546399"
      ]
     },
     "execution_count": 58,
     "metadata": {},
     "output_type": "execute_result"
    }
   ],
   "source": [
    "N(vector2.norm())"
   ]
  },
  {
   "cell_type": "code",
   "execution_count": 55,
   "id": "90579a3b",
   "metadata": {},
   "outputs": [],
   "source": [
    "vector3 = Matrix([1,4,5])"
   ]
  },
  {
   "cell_type": "code",
   "execution_count": 56,
   "id": "fc75ef38",
   "metadata": {},
   "outputs": [
    {
     "data": {
      "text/latex": [
       "$\\displaystyle \\sqrt{42}$"
      ],
      "text/plain": [
       "sqrt(42)"
      ]
     },
     "execution_count": 56,
     "metadata": {},
     "output_type": "execute_result"
    }
   ],
   "source": [
    "vector3.norm()"
   ]
  },
  {
   "cell_type": "code",
   "execution_count": 57,
   "id": "99989a6a",
   "metadata": {},
   "outputs": [
    {
     "data": {
      "text/latex": [
       "$\\displaystyle 6.48074069840786$"
      ],
      "text/plain": [
       "6.48074069840786"
      ]
     },
     "execution_count": 57,
     "metadata": {},
     "output_type": "execute_result"
    }
   ],
   "source": [
    "N(vector3.norm())"
   ]
  },
  {
   "cell_type": "code",
   "execution_count": 61,
   "id": "b3fe826f",
   "metadata": {},
   "outputs": [
    {
     "data": {
      "text/latex": [
       "$\\displaystyle \\sqrt{\\left|{w}\\right|^{2} + \\left|{x}\\right|^{2} + \\left|{y}\\right|^{2} + \\left|{z}\\right|^{2}}$"
      ],
      "text/plain": [
       "sqrt(Abs(w)**2 + Abs(x)**2 + Abs(y)**2 + Abs(z)**2)"
      ]
     },
     "execution_count": 61,
     "metadata": {},
     "output_type": "execute_result"
    }
   ],
   "source": [
    "vector4 = Matrix([x,y,z,w])\n",
    "vector4.norm()"
   ]
  },
  {
   "cell_type": "markdown",
   "id": "4f733175",
   "metadata": {},
   "source": [
    "## Ângulo (Teta $\\theta$) entre 2 Vetores (Angle (Theta $\\theta$) between 2 vectors)\n"
   ]
  },
  {
   "cell_type": "markdown",
   "id": "1a37e304",
   "metadata": {},
   "source": [
    "\n",
    "Formula: $\\frac{u * v}{|u| * |v|}$ = cos $\\theta$"
   ]
  },
  {
   "cell_type": "code",
   "execution_count": 62,
   "id": "02f150de",
   "metadata": {},
   "outputs": [],
   "source": [
    "vector1 = Matrix([2,2])\n",
    "vector2 = Matrix([0, -2])"
   ]
  },
  {
   "cell_type": "code",
   "execution_count": 66,
   "id": "aea6803e",
   "metadata": {},
   "outputs": [],
   "source": [
    "line1 = Line(Point(0,0), Point(vector1[0], vector1[1]))\n",
    "line2 = Line(Point(0,0), Point(vector2[0], vector2[1]))"
   ]
  },
  {
   "cell_type": "code",
   "execution_count": 67,
   "id": "e64b8977",
   "metadata": {},
   "outputs": [
    {
     "data": {
      "text/latex": [
       "$\\displaystyle \\frac{3 \\pi}{4}$"
      ],
      "text/plain": [
       "3*pi/4"
      ]
     },
     "execution_count": 67,
     "metadata": {},
     "output_type": "execute_result"
    }
   ],
   "source": [
    "line1.angle_between(line2)"
   ]
  },
  {
   "cell_type": "code",
   "execution_count": 69,
   "id": "b744c4b8",
   "metadata": {},
   "outputs": [
    {
     "data": {
      "text/plain": [
       "135.0"
      ]
     },
     "execution_count": 69,
     "metadata": {},
     "output_type": "execute_result"
    }
   ],
   "source": [
    "from math import degrees\n",
    "degrees(line1.angle_between(line2))"
   ]
  },
  {
   "cell_type": "code",
   "execution_count": 71,
   "id": "cee754a4",
   "metadata": {},
   "outputs": [],
   "source": [
    "vector1 = Matrix([1,2,3])\n",
    "vector2 = Matrix([-5, 1, 1])\n",
    "line1 = Line(Point3D(0,0,0), Point3D(vector1[0], vector1[1], vector1[2]))\n",
    "line2 = Line(Point3D(0,0,0), Point3D(vector2[0], vector2[1], vector2[2]))"
   ]
  },
  {
   "cell_type": "code",
   "execution_count": 72,
   "id": "39569e2e",
   "metadata": {},
   "outputs": [
    {
     "data": {
      "text/latex": [
       "$\\displaystyle \\frac{\\pi}{2}$"
      ],
      "text/plain": [
       "pi/2"
      ]
     },
     "execution_count": 72,
     "metadata": {},
     "output_type": "execute_result"
    }
   ],
   "source": [
    "line1.angle_between(line2)"
   ]
  },
  {
   "cell_type": "code",
   "execution_count": 73,
   "id": "7d2139df",
   "metadata": {},
   "outputs": [
    {
     "data": {
      "text/plain": [
       "90.0"
      ]
     },
     "execution_count": 73,
     "metadata": {},
     "output_type": "execute_result"
    }
   ],
   "source": [
    "degrees(line1.angle_between(line2))"
   ]
  },
  {
   "cell_type": "markdown",
   "id": "64f115fa",
   "metadata": {},
   "source": [
    "## Vetores Colineares (Collinear Vectors)"
   ]
  },
  {
   "cell_type": "markdown",
   "id": "66975b33",
   "metadata": {},
   "source": [
    "u = (x1, y1) <br>\n",
    "v = (x2, y2) <br>\n",
    "\n",
    "Se $\\frac{x1}{x2}$ = $\\frac{y1}{y2}$ então u e v são vetores colineares<br>\n",
    "If $\\frac{x1}{x2}$ = $\\frac{y1}{y2}$ then u and v are collinear vectors"
   ]
  },
  {
   "cell_type": "code",
   "execution_count": 82,
   "id": "3f9cc1e3",
   "metadata": {},
   "outputs": [
    {
     "data": {
      "text/plain": [
       "True"
      ]
     },
     "execution_count": 82,
     "metadata": {},
     "output_type": "execute_result"
    }
   ],
   "source": [
    "vector1 = Matrix([-3, 2])\n",
    "vector2 = Matrix([6,-4])\n",
    "\n",
    "scalar1 = vector1[0]/vector1[1]\n",
    "scalar2 = vector2[0]/vector2[1]\n",
    "\n",
    "scalar1==scalar2"
   ]
  },
  {
   "cell_type": "code",
   "execution_count": 83,
   "id": "924f5087",
   "metadata": {},
   "outputs": [
    {
     "data": {
      "text/plain": [
       "True"
      ]
     },
     "execution_count": 83,
     "metadata": {},
     "output_type": "execute_result"
    }
   ],
   "source": [
    "Point.is_collinear(Point(0,0), Point(vector1[0], vector1[1]), Point(vector2[0], vector2[1]))"
   ]
  },
  {
   "cell_type": "code",
   "execution_count": 84,
   "id": "5f0bd637",
   "metadata": {},
   "outputs": [
    {
     "data": {
      "text/plain": [
       "False"
      ]
     },
     "execution_count": 84,
     "metadata": {},
     "output_type": "execute_result"
    }
   ],
   "source": [
    "vector1 = Matrix([1, 2])\n",
    "vector2 = Matrix([2, 3])\n",
    "\n",
    "scalar1 = vector1[0]/vector1[1]\n",
    "scalar2 = vector2[0]/vector2[1]\n",
    "\n",
    "scalar1==scalar2"
   ]
  },
  {
   "cell_type": "code",
   "execution_count": 85,
   "id": "3601b18a",
   "metadata": {},
   "outputs": [
    {
     "data": {
      "text/plain": [
       "False"
      ]
     },
     "execution_count": 85,
     "metadata": {},
     "output_type": "execute_result"
    }
   ],
   "source": [
    "Point.is_collinear(Point(0,0), Point(vector1[0], vector1[1]), Point(vector2[0], vector2[1]))"
   ]
  },
  {
   "cell_type": "markdown",
   "id": "bc16d35f",
   "metadata": {},
   "source": [
    "## Vetores Ortogonais (Orthogonal Vectors)"
   ]
  },
  {
   "cell_type": "markdown",
   "id": "59f37c86",
   "metadata": {},
   "source": [
    "Se o produto escalar de 2 vetores for 0, assumimos que existe ortogonalidade entre os 2. <br>\n",
    "If the scalar product between 2 vectors is 0, we assume that there is orthogonality between the 2."
   ]
  },
  {
   "cell_type": "code",
   "execution_count": 86,
   "id": "116c59a6",
   "metadata": {},
   "outputs": [
    {
     "data": {
      "text/latex": [
       "$\\displaystyle 0$"
      ],
      "text/plain": [
       "0"
      ]
     },
     "execution_count": 86,
     "metadata": {},
     "output_type": "execute_result"
    }
   ],
   "source": [
    "vector1 = Matrix([1, 2])\n",
    "vector2 = Matrix([-2, 1])\n",
    "\n",
    "vector1.dot(vector2)"
   ]
  },
  {
   "cell_type": "code",
   "execution_count": 87,
   "id": "0c1831f9",
   "metadata": {},
   "outputs": [
    {
     "data": {
      "text/latex": [
       "$\\displaystyle 4 y - 14$"
      ],
      "text/plain": [
       "4*y - 14"
      ]
     },
     "execution_count": 87,
     "metadata": {},
     "output_type": "execute_result"
    }
   ],
   "source": [
    "vector3 = Matrix([2, y, -3])\n",
    "vector4 = Matrix([y-1, 2, 4])\n",
    "\n",
    "vector3.dot(vector4)"
   ]
  },
  {
   "cell_type": "code",
   "execution_count": 88,
   "id": "110ccdb1",
   "metadata": {},
   "outputs": [
    {
     "data": {
      "text/plain": [
       "[7/2]"
      ]
     },
     "execution_count": 88,
     "metadata": {},
     "output_type": "execute_result"
    }
   ],
   "source": [
    "orth_scalar = vector3.dot(vector4)\n",
    "solve(orth_scalar)"
   ]
  },
  {
   "cell_type": "code",
   "execution_count": 89,
   "id": "86c3f9a6",
   "metadata": {},
   "outputs": [
    {
     "data": {
      "text/latex": [
       "$\\displaystyle 0$"
      ],
      "text/plain": [
       "0"
      ]
     },
     "execution_count": 89,
     "metadata": {},
     "output_type": "execute_result"
    }
   ],
   "source": [
    "orth_scalar.subs(y, 7/2)"
   ]
  },
  {
   "cell_type": "markdown",
   "id": "2d08d071",
   "metadata": {},
   "source": [
    "## Vetores Perpendiculáres (Perpendicular Vectors)"
   ]
  },
  {
   "cell_type": "markdown",
   "id": "2dbc0e4f",
   "metadata": {},
   "source": [
    "Seguem a mesma lógica dos vetores ortogonais, com a diferença que ortogonalidade é aplicada em 2 dimensões, enquanto perpendicularidade pode ser identificada em múltiplas dimensões <br>\n",
    "They follow the same logic of the orthogonal vectors, with the difference that orthogonality is applied in 2 dimensions, while perpendicularity can be identified in multiple dimensions."
   ]
  },
  {
   "cell_type": "code",
   "execution_count": 91,
   "id": "0ccdae7f",
   "metadata": {},
   "outputs": [],
   "source": [
    "vector1 = Matrix([0, 1, -1])\n",
    "vector2 = Matrix([2, y, 3*y-2])"
   ]
  },
  {
   "cell_type": "code",
   "execution_count": 93,
   "id": "61314440",
   "metadata": {},
   "outputs": [
    {
     "data": {
      "text/plain": [
       "[1]"
      ]
     },
     "execution_count": 93,
     "metadata": {},
     "output_type": "execute_result"
    }
   ],
   "source": [
    "perp_scalar = vector1.dot(vector2)\n",
    "solve(perp_scalar)"
   ]
  },
  {
   "cell_type": "code",
   "execution_count": 94,
   "id": "dc156c68",
   "metadata": {},
   "outputs": [
    {
     "data": {
      "text/plain": [
       "[2]"
      ]
     },
     "execution_count": 94,
     "metadata": {},
     "output_type": "execute_result"
    }
   ],
   "source": [
    "perp_scalar = vector1.dot(vector1+vector2)\n",
    "solve(perp_scalar)"
   ]
  },
  {
   "cell_type": "markdown",
   "id": "6fa4600d",
   "metadata": {},
   "source": [
    "A diferença é que dois segmentos de reta que formam um ângulo reto entre si serão sempre ortogonais mas, só serão perpendiculares se eles se tocarem em algum ponto. Desta forma teremos que todos os segmentos de reta perpendiculares serão sempre ortogonais mas, nem todos os ortogonais serão perpendiculares necessariamente!"
   ]
  },
  {
   "cell_type": "markdown",
   "id": "490bd84a",
   "metadata": {},
   "source": [
    "The difference is that two line segments that form a right angle to each other will always be orthogonal, but they will only be perpendicular if they touch at some point. In this way, we will have that all perpendicular line segments will always be orthogonal, but not all orthogonal ones will necessarily be perpendicular!"
   ]
  },
  {
   "cell_type": "code",
   "execution_count": null,
   "id": "635b6fd0",
   "metadata": {},
   "outputs": [],
   "source": []
  }
 ],
 "metadata": {
  "kernelspec": {
   "display_name": "Python 3 (ipykernel)",
   "language": "python",
   "name": "python3"
  },
  "language_info": {
   "codemirror_mode": {
    "name": "ipython",
    "version": 3
   },
   "file_extension": ".py",
   "mimetype": "text/x-python",
   "name": "python",
   "nbconvert_exporter": "python",
   "pygments_lexer": "ipython3",
   "version": "3.9.7"
  }
 },
 "nbformat": 4,
 "nbformat_minor": 5
}
